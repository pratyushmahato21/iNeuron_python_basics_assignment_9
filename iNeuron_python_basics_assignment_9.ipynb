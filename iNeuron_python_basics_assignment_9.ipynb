{
 "cells": [
  {
   "cell_type": "markdown",
   "id": "6c633c47",
   "metadata": {},
   "source": [
    "1. To what does a relative path refer?"
   ]
  },
  {
   "cell_type": "markdown",
   "id": "53ce0ed4",
   "metadata": {},
   "source": [
    "Ans: A relative path is a way to specify the location of a directory relative to another directory. Relative path is defined as the path related to the present working directly(pwd) For example, suppose your documents are in C:\\Sample\\Documents and your index is in C:\\Sample\\Index.  The absolute path for the documents would be C:\\Sample\\Documents.  The relative path from C:\\Sample\\Index to C:\\Sample\\Documents would be ..\\Documents\n",
    "\n",
    "\n",
    "PWD + relative path = absolute path\n"
   ]
  },
  {
   "cell_type": "markdown",
   "id": "c5632465",
   "metadata": {},
   "source": [
    "2. What does an absolute path start with your operating system?"
   ]
  },
  {
   "cell_type": "markdown",
   "id": "332fb46e",
   "metadata": {},
   "source": [
    "Ans: C: -- windows os"
   ]
  },
  {
   "cell_type": "markdown",
   "id": "9ace33fb",
   "metadata": {},
   "source": [
    "3. What do the functions os.getcwd() and os.chdir() do?"
   ]
  },
  {
   "cell_type": "markdown",
   "id": "617e9657",
   "metadata": {},
   "source": [
    "Ans: os.getcwd() : gives the location of the current directory in which we are working now.\n",
    "\n",
    "\n",
    "os.chdir(): changes the current directory to a new directory\n"
   ]
  },
  {
   "cell_type": "markdown",
   "id": "ca50cc93",
   "metadata": {},
   "source": [
    "4. What are the . and .. folders?"
   ]
  },
  {
   "cell_type": "markdown",
   "id": "bb967359",
   "metadata": {},
   "source": [
    "Ans: . Represents the Current Directory Whereas .. Represents the Parent Directory of the Current Directory"
   ]
  },
  {
   "cell_type": "markdown",
   "id": "1770f17c",
   "metadata": {},
   "source": [
    "5. In C:\\bacon\\eggs\\spam.txt, which part is the dir name, and which part is the base name?"
   ]
  },
  {
   "cell_type": "markdown",
   "id": "68bf8629",
   "metadata": {},
   "source": [
    "Ans: dir name: C:\\bacon\\eggs\\spam.txt\n",
    "            \n",
    "            \n",
    "base name: it is given just before the dir name\n"
   ]
  },
  {
   "cell_type": "markdown",
   "id": "d5e5290c",
   "metadata": {},
   "source": [
    "6. What are the three “mode” arguments that can be passed to the open() function?"
   ]
  },
  {
   "cell_type": "markdown",
   "id": "22910866",
   "metadata": {},
   "source": [
    "Ans: r mode: opens the file for reading only\n",
    "        \n",
    "        \n",
    "w mode: opens a file for writing. Creates a new file if it does not exist or truncates the file if it exists.\n",
    "    \n",
    "    \n",
    "b mode: opens he file in binary mode\n"
   ]
  },
  {
   "cell_type": "markdown",
   "id": "55cf7abd",
   "metadata": {},
   "source": [
    "7. What happens if an existing file is opened in write mode?"
   ]
  },
  {
   "cell_type": "markdown",
   "id": "d98affa4",
   "metadata": {},
   "source": [
    "Ans: It will truncate the existing file"
   ]
  },
  {
   "cell_type": "markdown",
   "id": "8fe8ff19",
   "metadata": {},
   "source": [
    "8. How do you tell the difference between read() and readlines()?"
   ]
  },
  {
   "cell_type": "markdown",
   "id": "105ccec4",
   "metadata": {},
   "source": [
    "Ans: Read() will read the whole file at once whereas readlines() will read the lines one by one"
   ]
  },
  {
   "cell_type": "markdown",
   "id": "cd1e108e",
   "metadata": {},
   "source": [
    "9. What data structure does a shelf value resemble?"
   ]
  },
  {
   "cell_type": "markdown",
   "id": "602331d6",
   "metadata": {},
   "source": [
    "Ans: A shelf value resembles a dictionary value; it has keys and values.  It work similarly to the dictionary"
   ]
  },
  {
   "cell_type": "code",
   "execution_count": null,
   "id": "14ca141e",
   "metadata": {},
   "outputs": [],
   "source": []
  }
 ],
 "metadata": {
  "kernelspec": {
   "display_name": "Python 3 (ipykernel)",
   "language": "python",
   "name": "python3"
  },
  "language_info": {
   "codemirror_mode": {
    "name": "ipython",
    "version": 3
   },
   "file_extension": ".py",
   "mimetype": "text/x-python",
   "name": "python",
   "nbconvert_exporter": "python",
   "pygments_lexer": "ipython3",
   "version": "3.9.7"
  },
  "toc": {
   "base_numbering": 1,
   "nav_menu": {},
   "number_sections": true,
   "sideBar": true,
   "skip_h1_title": false,
   "title_cell": "Table of Contents",
   "title_sidebar": "Contents",
   "toc_cell": false,
   "toc_position": {},
   "toc_section_display": true,
   "toc_window_display": false
  }
 },
 "nbformat": 4,
 "nbformat_minor": 5
}
